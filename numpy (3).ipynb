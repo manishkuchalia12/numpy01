{
 "cells": [
  {
   "cell_type": "markdown",
   "id": "aea047c5-0370-4fcc-9762-27660d5e52ba",
   "metadata": {},
   "source": [
    "Consider the below code to answer further questions:\n",
    "import numpy as np\n",
    "list_ = [ ‘1’ , ’2’ , ‘3’ , ‘4’ , ‘5’ ]\n",
    "array_list = np.array(object = list_)\n",
    "Q1. Is there any difference in the data type of variables list_ and array_list? If there is then write a code\n",
    "to print the data types of both the variables.\n",
    "Ans:-\r\n",
    "Yes, there is a difference in the data type of the list_ and array_list. The list_ is a standard Python list, while array_list is a NumPy array. You can use the type() function to print the data types of both variables. Here's the code:\n"
   ]
  },
  {
   "cell_type": "code",
   "execution_count": null,
   "id": "818c15c4-c2f5-4da1-898c-d17b68db596d",
   "metadata": {},
   "outputs": [],
   "source": [
    "import numpy as np\n",
    "\n",
    "list_ = ['1', '2', '3', '4', '5']\n",
    "array_list = np.array(object=list_)\n",
    "\n",
    "# Print the data types of variables\n",
    "print(\"Data type of list_:\", type(list_))\n",
    "print(\"Data type of array_list:\", type(array_list))\n"
   ]
  },
  {
   "cell_type": "markdown",
   "id": "864eb29b-884f-4a00-aedc-1e44cef01665",
   "metadata": {},
   "source": [
    "Q2. Write a code to print the data type of each and every element of both the variables list_ and\n",
    "arra_list.\n",
    "Ans:-\n",
    "Certainly! You can use a loop to iterate through each element of both the list_ and array_list and print the data type of each element. Here's the code:"
   ]
  },
  {
   "cell_type": "code",
   "execution_count": null,
   "id": "58cfb42c-bd0f-4afb-b2f3-ec5fe165705b",
   "metadata": {},
   "outputs": [],
   "source": [
    "import numpy as np\n",
    "\n",
    "list_ = ['1', '2', '3', '4', '5']\n",
    "array_list = np.array(object=list_)\n",
    "\n",
    "# Print the data type of each element in list_\n",
    "print(\"Data types of elements in list_:\")\n",
    "for element in list_:\n",
    "    print(type(element))\n",
    "\n",
    "# Print the data type of each element in array_list\n",
    "print(\"\\nData types of elements in array_list:\")\n",
    "for element in array_list:\n",
    "    print(type(element))\n"
   ]
  },
  {
   "cell_type": "markdown",
   "id": "deaed1ca-d730-4b9d-b8b2-6cf3977cb9f5",
   "metadata": {},
   "source": [
    "Q3. Considering the following changes in the variable, array_list:\r\n",
    "array_list = np.array(object = list_, dtype = int)\r\n",
    "Will there be any difference in the data type of the elements present in both the variables, list_ and\r\n",
    "arra_list? If so then print the data types of each and every element present in both the variables, list_\r\n",
    "and arra_list.\r\n",
    "Consider the below code to answer further questions:\r\n",
    "import numpy as np\r\n",
    "num_list = [ [ 1 , 2 , 3 ] , [ 4 , 5 , 6 ] ]\r\n",
    "num_array = np.array(object = num_list)\n",
    "Ans:-\n",
    "With the given change in the variable array_list, where the data type is explicitly set to int using the dtype parameter, the elements of array_list will be converted to integers. Here's the updated code to print the data type of each element in both the original and modified array_list:"
   ]
  },
  {
   "cell_type": "code",
   "execution_count": null,
   "id": "c7305d89-7a8d-4e51-9298-cf08109839f8",
   "metadata": {},
   "outputs": [],
   "source": [
    "import numpy as np\n",
    "\n",
    "list_ = ['1', '2', '3', '4', '5']\n",
    "array_list = np.array(object=list_, dtype=int)\n",
    "\n",
    "# Print the data type of each element in list_\n",
    "print(\"Data types of elements in list_:\")\n",
    "for element in list_:\n",
    "    print(type(element))\n",
    "\n",
    "# Print the data type of each element in array_list\n",
    "print(\"\\nData types of elements in array_list:\")\n",
    "for element in array_list:\n",
    "    print(type(element))\n"
   ]
  },
  {
   "cell_type": "markdown",
   "id": "37bd94f3-0773-455e-9521-24710c3e515e",
   "metadata": {},
   "source": [
    "Here, num_array will have elements of integer type since the elements in num_list are integers. To print the data types of each element in num_list and num_array, you can use the following code:"
   ]
  },
  {
   "cell_type": "code",
   "execution_count": null,
   "id": "9df77e52-ac9c-442c-af88-211ba954d0ee",
   "metadata": {},
   "outputs": [],
   "source": [
    "# Print the data type of each element in num_list\n",
    "print(\"\\nData types of elements in num_list:\")\n",
    "for row in num_list:\n",
    "    for element in row:\n",
    "        print(type(element))\n",
    "\n",
    "# Print the data type of each element in num_array\n",
    "print(\"\\nData types of elements in num_array:\")\n",
    "for row in num_array:\n",
    "    for element in row:\n",
    "        print(type(element))\n"
   ]
  },
  {
   "cell_type": "markdown",
   "id": "4d632462-4340-4d48-aaad-9baf84d7ede4",
   "metadata": {},
   "source": [
    "Q4. Write a code to find the following characteristics of variable, num_array:\n",
    "(i) shape\n",
    "(ii) size\n",
    "Ans:-\n",
    "Certainly! You can use the attributes shape and size of the NumPy array to find its characteristics. Here's the code:"
   ]
  },
  {
   "cell_type": "code",
   "execution_count": null,
   "id": "64c1f59d-5b74-41ad-aa9f-42ae5a6694a8",
   "metadata": {},
   "outputs": [],
   "source": [
    "\n"
   ]
  },
  {
   "cell_type": "markdown",
   "id": "e001d94a-3e92-47e7-8cfa-46925a8ce9f6",
   "metadata": {},
   "source": [
    "Q5. Write a code to create numpy array of 3*3 matrix containing zeros only, using a numpy array\n",
    "creation function.\n",
    "[Hint: The size of the array will be 9 and the shape will be (3,3).]\n",
    "Ans:-\n",
    "Certainly! You can use the numpy.zeros function to create a 3x3 matrix containing zeros. Here's the code:\n",
    "import numpy as np\n",
    "\n",
    "# Create a 3x3 matrix containing zeros\n",
    "zeros_array = np.zeros((3, 3))\n",
    "\n",
    "# Display the created array\n",
    "print(zeros_array)\n"
   ]
  },
  {
   "cell_type": "code",
   "execution_count": null,
   "id": "15e7f932-8d01-4a74-9b35-2f4cf00f0bab",
   "metadata": {},
   "outputs": [],
   "source": []
  },
  {
   "cell_type": "markdown",
   "id": "da03e5c3-1f92-4957-9d5c-19ab530bfd97",
   "metadata": {},
   "source": [
    "Q6. Create an identity matrix of shape (5,5) using numpy functions?\n",
    "[Hint: An identity matrix is a matrix containing 1 diagonally and other elements will be 0.]\n",
    "Ans:-\n",
    "Certainly! You can use the numpy.identity function to create an identity matrix with the specified shape. Here's the code:\n",
    "import numpy as np\n",
    "\n",
    "# Create a 5x5 identity matrix\n",
    "identity_matrix = np.identity(5)\n",
    "\n",
    "# Display the created identity matrix\n",
    "print(identity_matrix)"
   ]
  },
  {
   "cell_type": "code",
   "execution_count": null,
   "id": "7f9c99b1-e3dd-442f-b8a2-ff73817d7de5",
   "metadata": {},
   "outputs": [],
   "source": [
    "\n"
   ]
  }
 ],
 "metadata": {
  "kernelspec": {
   "display_name": "Python 3 (ipykernel)",
   "language": "python",
   "name": "python3"
  },
  "language_info": {
   "codemirror_mode": {
    "name": "ipython",
    "version": 3
   },
   "file_extension": ".py",
   "mimetype": "text/x-python",
   "name": "python",
   "nbconvert_exporter": "python",
   "pygments_lexer": "ipython3",
   "version": "3.12.0"
  }
 },
 "nbformat": 4,
 "nbformat_minor": 5
}
